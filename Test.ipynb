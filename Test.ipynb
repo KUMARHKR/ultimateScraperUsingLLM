{
 "cells": [
  {
   "cell_type": "code",
   "execution_count": 1,
   "id": "initial_id",
   "metadata": {
    "collapsed": true,
    "ExecuteTime": {
     "end_time": "2024-07-09T16:33:13.048390Z",
     "start_time": "2024-07-09T16:33:12.562372700Z"
    }
   },
   "outputs": [
    {
     "name": "stdout",
     "output_type": "stream",
     "text": [
      "{\n",
      "  \"ip\": \"27.131.212.33\",\n",
      "  \"hostname\": \"ns0.wishnet.in\",\n",
      "  \"city\": \"Kolkata\",\n",
      "  \"region\": \"West Bengal\",\n",
      "  \"country\": \"IN\",\n",
      "  \"loc\": \"22.5626,88.3630\",\n",
      "  \"org\": \"AS45775 WISH NET PRIVATE LIMITED\",\n",
      "  \"postal\": \"700001\",\n",
      "  \"timezone\": \"Asia/Kolkata\",\n",
      "  \"readme\": \"https://ipinfo.io/missingauth\"\n",
      "}\n"
     ]
    },
    {
     "name": "stderr",
     "output_type": "stream",
     "text": [
      "  % Total    % Received % Xferd  Average Speed   Time    Time     Time  Current\n",
      "                                 Dload  Upload   Total   Spent    Left  Speed\n",
      "\n",
      "  0     0    0     0    0     0      0      0 --:--:-- --:--:-- --:--:--     0\n",
      "100   296  100   296    0     0    855      0 --:--:-- --:--:-- --:--:--   875\n",
      "100   296  100   296    0     0    852      0 --:--:-- --:--:-- --:--:--   873\n"
     ]
    }
   ],
   "source": [
    "# check if you are in the right country to use Gemini api keys\n",
    "!curl ipinfo.io"
   ]
  },
  {
   "cell_type": "code",
   "execution_count": 1,
   "outputs": [
    {
     "name": "stdout",
     "output_type": "stream",
     "text": [
      "Timed out waiting for listings to load.\n"
     ]
    },
    {
     "ename": "TimeoutException",
     "evalue": "Message: \nStacktrace:\n\tGetHandleVerifier [0x00007FF67A7EEEA2+31554]\n\t(No symbol) [0x00007FF67A767ED9]\n\t(No symbol) [0x00007FF67A62872A]\n\t(No symbol) [0x00007FF67A678434]\n\t(No symbol) [0x00007FF67A67853C]\n\t(No symbol) [0x00007FF67A6BF6A7]\n\t(No symbol) [0x00007FF67A69D06F]\n\t(No symbol) [0x00007FF67A6BC977]\n\t(No symbol) [0x00007FF67A69CDD3]\n\t(No symbol) [0x00007FF67A66A33B]\n\t(No symbol) [0x00007FF67A66AED1]\n\tGetHandleVerifier [0x00007FF67AAF8B1D+3217341]\n\tGetHandleVerifier [0x00007FF67AB45AE3+3532675]\n\tGetHandleVerifier [0x00007FF67AB3B0E0+3489152]\n\tGetHandleVerifier [0x00007FF67A89E776+750614]\n\t(No symbol) [0x00007FF67A77375F]\n\t(No symbol) [0x00007FF67A76EB14]\n\t(No symbol) [0x00007FF67A76ECA2]\n\t(No symbol) [0x00007FF67A75E16F]\n\tBaseThreadInitThunk [0x00007FF99865257D+29]\n\tRtlUserThreadStart [0x00007FF9994AAF28+40]\n",
     "output_type": "error",
     "traceback": [
      "\u001B[1;31m---------------------------------------------------------------------------\u001B[0m",
      "\u001B[1;31mTimeoutException\u001B[0m                          Traceback (most recent call last)",
      "Cell \u001B[1;32mIn[1], line 92\u001B[0m\n\u001B[0;32m     89\u001B[0m extract_data(driver)\n\u001B[0;32m     91\u001B[0m \u001B[38;5;66;03m# Get total pages from the pagination element\u001B[39;00m\n\u001B[1;32m---> 92\u001B[0m pagination_element \u001B[38;5;241m=\u001B[39m WebDriverWait(driver, \u001B[38;5;241m10\u001B[39m)\u001B[38;5;241m.\u001B[39muntil(\n\u001B[0;32m     93\u001B[0m     EC\u001B[38;5;241m.\u001B[39mpresence_of_element_located((By\u001B[38;5;241m.\u001B[39mCLASS_NAME, \u001B[38;5;124m'\u001B[39m\u001B[38;5;124mBox__Div-sc-dws99b-0 zzTlQ\u001B[39m\u001B[38;5;124m'\u001B[39m)))\n\u001B[0;32m     94\u001B[0m total_pages \u001B[38;5;241m=\u001B[39m \u001B[38;5;28mint\u001B[39m(pagination_element\u001B[38;5;241m.\u001B[39mfind(\u001B[38;5;124m'\u001B[39m\u001B[38;5;124mp\u001B[39m\u001B[38;5;124m'\u001B[39m)\u001B[38;5;241m.\u001B[39mtext\u001B[38;5;241m.\u001B[39msplit()[\u001B[38;5;241m-\u001B[39m\u001B[38;5;241m1\u001B[39m])\n\u001B[0;32m     96\u001B[0m \u001B[38;5;66;03m# Loop through remaining pages\u001B[39;00m\n",
      "File \u001B[1;32m~\\anaconda3\\envs\\Selenium Project\\Lib\\site-packages\\selenium\\webdriver\\support\\wait.py:105\u001B[0m, in \u001B[0;36mWebDriverWait.until\u001B[1;34m(self, method, message)\u001B[0m\n\u001B[0;32m    103\u001B[0m     \u001B[38;5;28;01mif\u001B[39;00m time\u001B[38;5;241m.\u001B[39mmonotonic() \u001B[38;5;241m>\u001B[39m end_time:\n\u001B[0;32m    104\u001B[0m         \u001B[38;5;28;01mbreak\u001B[39;00m\n\u001B[1;32m--> 105\u001B[0m \u001B[38;5;28;01mraise\u001B[39;00m TimeoutException(message, screen, stacktrace)\n",
      "\u001B[1;31mTimeoutException\u001B[0m: Message: \nStacktrace:\n\tGetHandleVerifier [0x00007FF67A7EEEA2+31554]\n\t(No symbol) [0x00007FF67A767ED9]\n\t(No symbol) [0x00007FF67A62872A]\n\t(No symbol) [0x00007FF67A678434]\n\t(No symbol) [0x00007FF67A67853C]\n\t(No symbol) [0x00007FF67A6BF6A7]\n\t(No symbol) [0x00007FF67A69D06F]\n\t(No symbol) [0x00007FF67A6BC977]\n\t(No symbol) [0x00007FF67A69CDD3]\n\t(No symbol) [0x00007FF67A66A33B]\n\t(No symbol) [0x00007FF67A66AED1]\n\tGetHandleVerifier [0x00007FF67AAF8B1D+3217341]\n\tGetHandleVerifier [0x00007FF67AB45AE3+3532675]\n\tGetHandleVerifier [0x00007FF67AB3B0E0+3489152]\n\tGetHandleVerifier [0x00007FF67A89E776+750614]\n\t(No symbol) [0x00007FF67A77375F]\n\t(No symbol) [0x00007FF67A76EB14]\n\t(No symbol) [0x00007FF67A76ECA2]\n\t(No symbol) [0x00007FF67A75E16F]\n\tBaseThreadInitThunk [0x00007FF99865257D+29]\n\tRtlUserThreadStart [0x00007FF9994AAF28+40]\n"
     ]
    }
   ],
   "source": [
    "import pandas as pd\n",
    "from selenium import webdriver\n",
    "from selenium.webdriver.common.by import By\n",
    "from selenium.webdriver.support.ui import WebDriverWait\n",
    "from selenium.webdriver.support import expected_conditions as EC\n",
    "from selenium.common.exceptions import TimeoutException\n",
    "from bs4 import BeautifulSoup\n",
    "import time\n",
    "\n",
    "def extract_data(driver):\n",
    "    # Wait for the listings to load (adjust timeout as needed)\n",
    "    try:\n",
    "        WebDriverWait(driver, 10).until(\n",
    "            EC.presence_of_element_located((By.CLASS_NAME, 'Box__Div-sc-dws99b-0 iOfhmk')))\n",
    "    except TimeoutException:\n",
    "        print(\"Timed out waiting for listings to load.\")\n",
    "        return\n",
    "\n",
    "    page_source = driver.page_source\n",
    "    soup = BeautifulSoup(page_source, 'lxml')\n",
    "\n",
    "    company_elements = soup.find_all('div', class_='Box__Div-sc-dws99b-0 iOfhmk')\n",
    "\n",
    "    for company in company_elements:\n",
    "        # --- Company Name ---\n",
    "        company_name_element = company.find('h3', class_='MuiTypography-root MuiTypography-h3 MuiTypography-displayBlock')\n",
    "        company_names.append(company_name_element.text.strip() if company_name_element else 'N/A')\n",
    "\n",
    "        # --- Location ---\n",
    "        location_element = company.find('p', class_='MuiTypography-root MuiTypography-body2 MuiTypography-colorTextSecondary')\n",
    "        locations.append(location_element.text.strip() if location_element else 'N/A')\n",
    "\n",
    "        # --- Phone Number ---\n",
    "        phone_number_element = company.find('a', class_='MuiButtonBase-root MuiButton-root MuiButton-text ButtonPhone MuiButton-textPrimary MuiButton-fullWidth')\n",
    "        phone_numbers.append(phone_number_element.text.strip() if phone_number_element else 'N/A')\n",
    "\n",
    "        # --- Website URL ---\n",
    "        website_url_element = company.find('a', class_='MuiButtonBase-root MuiButton-root MuiButton-text ButtonWebsite MuiButton-textSecondary MuiButton-fullWidth')\n",
    "        website_urls.append(website_url_element['href'] if website_url_element else 'N/A')\n",
    "\n",
    "        # --- Description ---\n",
    "        description_element = company.find('p', class_='MuiTypography-root MuiTypography-subtitle2 MuiTypography-paragraph')\n",
    "        descriptions.append(description_element.text.strip() if description_element else 'N/A')\n",
    "\n",
    "        # --- Rating ---\n",
    "        rating_element = company.find('div', class_='Box__Div-sc-dws99b-0 iiSpqr')\n",
    "        ratings.append(rating_element.text.strip() if rating_element else 'N/A')\n",
    "\n",
    "        # --- Reviews Count ---\n",
    "        reviews_count_element = company.find('p', class_='MuiTypography-root MuiTypography-body2')\n",
    "        reviews_count.append(reviews_count_element.text.strip() if reviews_count_element else 'N/A')\n",
    "\n",
    "        # --- Opening Hours ---\n",
    "        opening_hours_element = company.find('span', class_='jss391')\n",
    "        opening_hours.append(opening_hours_element.text.strip() if opening_hours_element else 'N/A')\n",
    "\n",
    "        # --- Licences ---\n",
    "        licence_element = company.find('p', class_='MuiTypography-root MuiTypography-body2 MuiTypography-colorSecondary')\n",
    "        licences.append(licence_element.text.split(\":\")[-1].strip() if licence_element else 'N/A')\n",
    "\n",
    "        # --- Features ---\n",
    "        feature_elements = company.find_all('div', class_='Box__Div-sc-dws99b-0 bKFqNV jss416')\n",
    "        features_list = [feature.text.strip() for feature in feature_elements]\n",
    "        features.append(features_list)\n",
    "\n",
    "# Initialize data lists outside the function to make them global\n",
    "company_names = []\n",
    "locations = []\n",
    "phone_numbers = []\n",
    "website_urls = []\n",
    "descriptions = []\n",
    "ratings = []\n",
    "reviews_count = []\n",
    "opening_hours = []\n",
    "licences = []\n",
    "features = []\n",
    "\n",
    "# Configure Selenium\n",
    "options = webdriver.ChromeOptions()\n",
    "options.add_argument('--headless')  # Optional: Run in headless mode \n",
    "driver = webdriver.Chrome(options=options)\n",
    "\n",
    "# Starting URL\n",
    "base_url = 'https://www.yellowpages.com.au/search/listings?clue=Electricians&locationClue=Australia&pageNumber='\n",
    "start_page = 1\n",
    "driver.get(base_url + str(start_page))\n",
    "\n",
    "# Extract data from the first page\n",
    "extract_data(driver)\n",
    "\n",
    "# Get total pages from the pagination element\n",
    "pagination_element = WebDriverWait(driver, 10).until(\n",
    "    EC.presence_of_element_located((By.CLASS_NAME, 'Box__Div-sc-dws99b-0 zzTlQ')))\n",
    "total_pages = int(pagination_element.find('p').text.split()[-1])\n",
    "\n",
    "# Loop through remaining pages\n",
    "for page_number in range(start_page + 1, total_pages + 1):\n",
    "    print(f\"Scraping page {page_number}...\")\n",
    "    driver.get(base_url + str(page_number))\n",
    "\n",
    "    extract_data(driver)\n",
    "\n",
    "    time.sleep(2)  # Be respectful of the website's load\n",
    "\n",
    "driver.quit()\n",
    "\n",
    "# Create DataFrame\n",
    "df = pd.DataFrame({\n",
    "    'Company Name': company_names,\n",
    "    'Location': locations,\n",
    "    'Phone Number': phone_numbers,\n",
    "    'Website URL': website_urls,\n",
    "    'Description': descriptions,\n",
    "    'Rating': ratings,\n",
    "    'Reviews Count': reviews_count,\n",
    "    'Opening Hours': opening_hours,\n",
    "    'Licence': licences,\n",
    "    'Features': features\n",
    "})\n",
    "\n",
    "print(df)\n",
    "df.to_csv(\"yellow_pages_electricians.csv\", index=False)"
   ],
   "metadata": {
    "collapsed": false,
    "ExecuteTime": {
     "end_time": "2024-07-09T19:20:26.566060500Z",
     "start_time": "2024-07-09T19:19:58.935334200Z"
    }
   },
   "id": "c2b46bbe395ff380"
  },
  {
   "cell_type": "code",
   "execution_count": 7,
   "outputs": [],
   "source": [
    "\n"
   ],
   "metadata": {
    "collapsed": false,
    "ExecuteTime": {
     "end_time": "2024-07-09T16:47:32.326755400Z",
     "start_time": "2024-07-09T16:47:31.261697700Z"
    }
   },
   "id": "f9b63dc7d801c136"
  },
  {
   "cell_type": "code",
   "execution_count": null,
   "outputs": [],
   "source": [],
   "metadata": {
    "collapsed": false
   },
   "id": "e2b8be47f50ed426"
  }
 ],
 "metadata": {
  "kernelspec": {
   "display_name": "Python 3",
   "language": "python",
   "name": "python3"
  },
  "language_info": {
   "codemirror_mode": {
    "name": "ipython",
    "version": 2
   },
   "file_extension": ".py",
   "mimetype": "text/x-python",
   "name": "python",
   "nbconvert_exporter": "python",
   "pygments_lexer": "ipython2",
   "version": "2.7.6"
  }
 },
 "nbformat": 4,
 "nbformat_minor": 5
}
